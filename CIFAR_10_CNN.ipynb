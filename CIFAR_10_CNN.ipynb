{
  "nbformat": 4,
  "nbformat_minor": 0,
  "metadata": {
    "colab": {
      "provenance": [],
      "authorship_tag": "ABX9TyMacSt7BIqKEaKBQrxZBVo/",
      "include_colab_link": true
    },
    "kernelspec": {
      "name": "python3",
      "display_name": "Python 3"
    },
    "language_info": {
      "name": "python"
    }
  },
  "cells": [
    {
      "cell_type": "markdown",
      "metadata": {
        "id": "view-in-github",
        "colab_type": "text"
      },
      "source": [
        "<a href=\"https://colab.research.google.com/github/willdphan/cifar-cnn/blob/main/CIFAR_10_CNN.ipynb\" target=\"_parent\"><img src=\"https://colab.research.google.com/assets/colab-badge.svg\" alt=\"Open In Colab\"/></a>"
      ]
    },
    {
      "cell_type": "markdown",
      "source": [
        "# CIFAR-10 CNN\n",
        "> ## Steps in CNN\n",
        "\n",
        ">>[Import Libraries](#folderId=1ikmNGi-2pw1SJQf7HJHhsoHYdOgew_QB&updateTitle=true&scrollTo=pBNkZeQ98syU)\n",
        "\n",
        ">>[Define Device and Hyper-parameters](#folderId=1ikmNGi-2pw1SJQf7HJHhsoHYdOgew_QB&updateTitle=true&scrollTo=9KcXV61X5S7d)\n",
        "\n",
        ">>[Perform Data Transformations and Data Loading](#folderId=1ikmNGi-2pw1SJQf7HJHhsoHYdOgew_QB&updateTitle=true&scrollTo=HRfIUOl54sUz)\n",
        "\n",
        ">>[Define Classes](#folderId=1ikmNGi-2pw1SJQf7HJHhsoHYdOgew_QB&updateTitle=true&scrollTo=hsE9uMS34agf)\n",
        "\n",
        ">>[Convert Image Tensor to Numpy Array and Show Images](#folderId=1ikmNGi-2pw1SJQf7HJHhsoHYdOgew_QB&updateTitle=true&scrollTo=0_asdT-m5cRH)\n",
        "\n",
        ">>[Determine Layers and Hyper-parameters](#folderId=1ikmNGi-2pw1SJQf7HJHhsoHYdOgew_QB&updateTitle=true&scrollTo=8SvO8fS8cCCn)\n",
        ">>>1.   Convolution layer(s): `torch.nn.Conv2d`\n",
        "2.   Activation function: `torch.nn.ReLU, torch.nn.Sigmoid, torch.nn.Softplus, etc.`\n",
        "3.   {Optional}\n",
        "  *   Batch normalization: `torch.nn.BatchNorm2d`\n",
        "  *   Pooling: `torch.nn.MaxPool2d`\n",
        "  *   Drop out: `torch.nn.Dropout`\n",
        "6.   Flatten: `torch.nn.Flatten`\n",
        "\n",
        ">>[Create CNN Class](#folderId=1ikmNGi-2pw1SJQf7HJHhsoHYdOgew_QB&updateTitle=true&scrollTo=mx1wk--GwZ9k)\n",
        "\n",
        ">>[Define Loss Function and Optimizer](#folderId=1ikmNGi-2pw1SJQf7HJHhsoHYdOgew_QB&updateTitle=true&scrollTo=B9x-6crA3rWX)\n",
        "\n",
        ">>[Define Train Function](#folderId=1ikmNGi-2pw1SJQf7HJHhsoHYdOgew_QB&updateTitle=true&scrollTo=m70cfurP4C9M)\n",
        "\n",
        ">>[Define Test Function](#folderId=1ikmNGi-2pw1SJQf7HJHhsoHYdOgew_QB&updateTitle=true&scrollTo=Yt-5KGkb4F8a)\n",
        "\n",
        ">>[Call Train and Test Functions](#folderId=1ikmNGi-2pw1SJQf7HJHhsoHYdOgew_QB&updateTitle=true&scrollTo=W5BlVRHq4IUA)\n",
        "\n"
      ],
      "metadata": {
        "colab_type": "toc",
        "id": "7A-xlZt18ymJ"
      }
    },
    {
      "cell_type": "markdown",
      "source": [
        "### Import Libraries"
      ],
      "metadata": {
        "id": "pBNkZeQ98syU"
      }
    },
    {
      "cell_type": "code",
      "execution_count": null,
      "metadata": {
        "id": "_y4_6BCw--Fb"
      },
      "outputs": [],
      "source": [
        "import torch\n",
        "import torch.nn as nn\n",
        "import torch.nn.functional as F\n",
        "import torchvision\n",
        "import torchvision.transforms as transforms\n",
        "import matplotlib.pyplot as plt\n",
        "import numpy as np"
      ]
    },
    {
      "cell_type": "markdown",
      "source": [
        "### Define Device and Hyper-parameters"
      ],
      "metadata": {
        "id": "9KcXV61X5S7d"
      }
    },
    {
      "cell_type": "code",
      "source": [
        "# Device configuration\n",
        "device = torch.device('cuda' if torch.cuda.is_available() else 'cpu')"
      ],
      "metadata": {
        "id": "GKCPn9Qg_Co7"
      },
      "execution_count": null,
      "outputs": []
    },
    {
      "cell_type": "code",
      "source": [
        "image"
      ],
      "metadata": {
        "id": "Wbt91Dq7_Fd5"
      },
      "execution_count": null,
      "outputs": []
    },
    {
      "cell_type": "markdown",
      "source": [
        "### Perform Data Transformations and Data Loading\n",
        "1. The code applies transformations to the CIFAR-10 dataset using torchvision.`transforms.Compose`, converting the images to tensors with `transforms.ToTensor()` and normalizing them with `transforms.Normalize(). `\n",
        "\n",
        "2. It then creates data loaders with `torch.utils.data.DataLoader` for both the training and test sets, enabling efficient batch processing. The train_loader loads the training dataset with shuffling, while the test_loader loads the test dataset without shuffling. These data loaders facilitate easy iteration over the datasets during training and evaluation."
      ],
      "metadata": {
        "id": "HRfIUOl54sUz"
      }
    },
    {
      "cell_type": "code",
      "source": [
        "# dataset has PILImage images of range [0, 1].\n",
        "# We transform them to Tensors of normalized range [-1, 1]\n",
        "transform = transforms.Compose(\n",
        "    [transforms.ToTensor(),\n",
        "     transforms.Normalize((0.5, 0.5, 0.5), (0.5, 0.5, 0.5))])"
      ],
      "metadata": {
        "id": "a-sOn9dv_G5l"
      },
      "execution_count": null,
      "outputs": []
    },
    {
      "cell_type": "code",
      "source": [
        "# CIFAR10: 60000 32x32 color images in 10 classes, with 6000 images per class\n",
        "# transform and train/not train for train and test datasets\n",
        "train_dataset = torchvision.datasets.CIFAR10(root='./data', train=True,\n",
        "                                        download=True, transform=transform)\n",
        "\n",
        "test_dataset = torchvision.datasets.CIFAR10(root='./data', train=False,\n",
        "                                       download=True, transform=transform)\n",
        "\n",
        "# batch size\n",
        "train_loader = torch.utils.data.DataLoader(train_dataset, batch_size=batch_size,\n",
        "                                          shuffle=True)\n",
        "\n",
        "test_loader = torch.utils.data.DataLoader(test_dataset, batch_size=batch_size,\n",
        "                                         shuffle=False)"
      ],
      "metadata": {
        "colab": {
          "base_uri": "https://localhost:8080/"
        },
        "id": "X6vGxOWX_IH9",
        "outputId": "0e790102-3667-46f2-addc-f91f99cafac6"
      },
      "execution_count": null,
      "outputs": [
        {
          "output_type": "stream",
          "name": "stdout",
          "text": [
            "Files already downloaded and verified\n",
            "Files already downloaded and verified\n"
          ]
        }
      ]
    },
    {
      "cell_type": "markdown",
      "source": [
        "### Define Classes\n",
        "10 Classes total."
      ],
      "metadata": {
        "id": "hsE9uMS34agf"
      }
    },
    {
      "cell_type": "code",
      "source": [
        "classes = ('plane', 'car', 'bird', 'cat',\n",
        "           'deer', 'dog', 'frog', 'horse', 'ship', 'truck')"
      ],
      "metadata": {
        "id": "Kb1wYZiA_LeF"
      },
      "execution_count": null,
      "outputs": []
    },
    {
      "cell_type": "markdown",
      "source": [
        "### Convert Image Tensor to Numpy Array and Show Images\n",
        "1. The `imshow` function is used to display images. It takes an image tensor as input, performs unnormalization to reverse the normalization process, converts the image tensor to a numpy array, and displays the image using `plt.imshow`.\n",
        "\n",
        "2. Then the `imshow` function is used to display a grid of random training images from the `train_loader`. The images are obtained by calling `torchvision.utils.make_grid(images)`, which creates a grid of images from the images tensor. The resulting grid of images is then passed to the imshow function for display."
      ],
      "metadata": {
        "id": "0_asdT-m5cRH"
      }
    },
    {
      "cell_type": "code",
      "source": [
        "def imshow(img):\n",
        "    # unnormalize\n",
        "    img = img / 2 + 0.5\n",
        "    npimg = img.numpy()\n",
        "    plt.imshow(np.transpose(npimg, (1, 2, 0)))\n",
        "    plt.show()\n",
        "    print(images.shape)"
      ],
      "metadata": {
        "id": "xSTR8I7f_NV4"
      },
      "execution_count": null,
      "outputs": []
    },
    {
      "cell_type": "code",
      "source": [
        "# get some random training images\n",
        "dataiter = iter(train_loader)\n",
        "images, labels = next(dataiter)\n",
        "\n",
        "# show images\n",
        "imshow(torchvision.utils.make_grid(images))"
      ],
      "metadata": {
        "colab": {
          "base_uri": "https://localhost:8080/",
          "height": 210
        },
        "id": "tFPvFHfZ_Pzi",
        "outputId": "75af85ba-9c38-4ff0-9e81-c19ca31880e4"
      },
      "execution_count": null,
      "outputs": [
        {
          "output_type": "display_data",
          "data": {
            "text/plain": [
              "<Figure size 640x480 with 1 Axes>"
            ],
            "image/png": "[encoded data removed]"
          },
          "metadata": {}
        },
        {
          "output_type": "stream",
          "name": "stdout",
          "text": [
            "torch.Size([4, 3, 32, 32])\n"
          ]
        }
      ]
    },
    {
      "cell_type": "markdown",
      "source": [
        "### Determine Layers and Hyper-parameters\n",
        "\n",
        "These are the hyper-parameters we choose manually based on intuition:\n",
        "*   kernel_size\n",
        "*   out_channels\n",
        "*   out_features\n",
        "\n",
        "`Image Shape: torch.Size([4, 3, 32, 32])`\n",
        "*   4 refers to the batch size, indicating that there are 4 input samples in the batch. Each sample will be processed independently.\n",
        "*   3 the number of input channels. In this case, it indicates that each input sample has 3 channels, typically representing the RGB channels of an image. In greyscale, we have 1 feature, in colour, we have 3 channels.\n",
        "*   32, 32 represents the height and width\n",
        "\n",
        "`conv1 = nn.Conv2d(3, 6, 5)`\n",
        "*   3 is # of input channels from the image. Since we're dealing with RGB images, each image will have three color channels (red, green, and blue).\n",
        "*   6 is the # of output channels (depth) of the convolutional layer. Determines how many kernels we want to use.\n",
        "*   5 is is the kernel size of the convolutional layer. It specifies the spatial dimensions of the square filter or kernel applied to the input. In this case, the kernel size is 5x5, indicating a 5x5 square filter.\n",
        "\n",
        "`pool = nn.MaxPool2d(2, 2)` - reduces number of params\n",
        "*   2 is kernel_size: Specifies the size of the pooling kernel. In this case, it is set to 2, indicating a 2x2 pooling window.\n",
        "*   2 is stride: Specifies the stride length for the pooling operation. In this case, it is also set to 2, which means the pooling operation moves by 2 pixels horizontally and vertically for each pooling step.\n",
        "\n",
        "`conv2 = nn.Conv2d(6, 16, 5)`\n",
        "*   6 is Input from output of first conv layer\n",
        "*   16 is output. Determines how many kernels we want to use.\n",
        "*   5 is is the kernel size of the convolutional layer. It specifies the spatial dimensions of the square filter or kernel applied to the input. In this case, the kernel size is 5x5, indicating a 5x5 square filter.\n",
        "\n",
        "Below is helped code to understand size."
      ],
      "metadata": {
        "id": "8SvO8fS8cCCn"
      }
    },
    {
      "cell_type": "code",
      "source": [
        "import torch\n",
        "import torch.nn as nn\n",
        "from torchsummary import summary\n",
        "\n",
        "# Image Shape: torch.Size([4, 3, 32, 32])\n",
        "conv1 = nn.Conv2d(3, 6, 5)\n",
        "pool = nn.MaxPool2d(2, 2)\n",
        "conv2 = nn.Conv2d(6, 16, 5)\n",
        "\n",
        "print('Image Shape:', images.shape)\n",
        "x = conv1(images)\n",
        "print('After 1st Conv:', x.shape)\n",
        "x = pool(x)\n",
        "print('After 1st Pool:', x.shape)\n",
        "x = conv2(x)\n",
        "print('After 2nd Conv:', x.shape)\n",
        "x = pool(x)\n",
        "print('After 2nd Pool:', x.shape)"
      ],
      "metadata": {
        "colab": {
          "base_uri": "https://localhost:8080/"
        },
        "id": "EP1MdyZDQcki",
        "outputId": "2399fb54-555f-45f1-fc7c-e93c20cff43c"
      },
      "execution_count": null,
      "outputs": [
        {
          "output_type": "stream",
          "name": "stdout",
          "text": [
            "Image Shape: torch.Size([4, 3, 32, 32])\n",
            "After 1st Conv: torch.Size([4, 6, 28, 28])\n",
            "After 1st Pool: torch.Size([4, 6, 14, 14])\n",
            "After 2nd Conv: torch.Size([4, 16, 10, 10])\n",
            "After 2nd Pool: torch.Size([4, 16, 5, 5])\n"
          ]
        }
      ]
    },
    {
      "cell_type": "markdown",
      "source": [
        "### Create CNN Class\n",
        "\n",
        "Create an init function to define the layers and hyper-parameters. Create a forward function to pass the data through the layers and apply activation functions.\n",
        "\n",
        "Typical ingredients (in order):\n",
        "1.   Convolution layer(s): `torch.nn.Conv2d`\n",
        "2.   Activation function: `torch.nn.ReLU, torch.nn.Sigmoid, torch.nn.Softplus, etc.`\n",
        "3.   Optional\n",
        "  *   Batch normalization: `torch.nn.BatchNorm2d`\n",
        "  *   Pooling: `torch.nn.MaxPool2d`\n",
        "  *   Drop out: `torch.nn.Dropout`\n",
        "6.   Flatten: `torch.nn.Flatten`\n",
        "\n"
      ],
      "metadata": {
        "id": "mx1wk--GwZ9k"
      }
    },
    {
      "cell_type": "code",
      "source": [
        "class ConvNet(nn.Module):\n",
        "    def __init__(self):\n",
        "        super(ConvNet, self).__init__()\n",
        "        self.conv1 = nn.Conv2d(3, 6, 5)\n",
        "        self.pool = nn.MaxPool2d(2, 2)\n",
        "        self.conv2 = nn.Conv2d(6, 16, 5)\n",
        "        self.fc1 = nn.Linear(16 * 5 * 5, 120)\n",
        "        self.fc2 = nn.Linear(120, 84)\n",
        "        self.fc3 = nn.Linear(84, 10)\n",
        "\n",
        "    def forward(self, x):\n",
        "        # -> n, 3, 32, 32\n",
        "        x = self.pool(F.relu(self.conv1(x)))  # -> n, 6, 14, 14\n",
        "        x = self.pool(F.relu(self.conv2(x)))  # -> n, 16, 5, 5\n",
        "        x = x.view(-1, 16 * 5 * 5)            # -> n, 400\n",
        "        x = F.relu(self.fc1(x))               # -> n, 120\n",
        "        x = F.relu(self.fc2(x))               # -> n, 84\n",
        "        x = self.fc3(x)                       # -> n, 10\n",
        "        return x"
      ],
      "metadata": {
        "id": "awzl9jFf_SvM"
      },
      "execution_count": null,
      "outputs": []
    },
    {
      "cell_type": "markdown",
      "source": [
        "### Define Loss Function and Optimizer"
      ],
      "metadata": {
        "id": "B9x-6crA3rWX"
      }
    },
    {
      "cell_type": "code",
      "source": [
        "model = ConvNet().to(device)\n",
        "# define loss function\n",
        "criterion = nn.CrossEntropyLoss()\n",
        "optimizer = torch.optim.SGD(model.parameters(), lr=learning_rate)"
      ],
      "metadata": {
        "id": "cpb1fJDtpS_S"
      },
      "execution_count": null,
      "outputs": []
    },
    {
      "cell_type": "markdown",
      "source": [
        "### Define Train Function\n",
        "\n",
        "The train function trains a given model using the provided training dataset. It performs multiple epochs of training, where each epoch consists of iterating over the batches of training data.\n",
        "\n",
        "During each iteration, it performs a forward pass through the model, computes the loss using the specified criterion, and updates the model's parameters through backward pass and optimization.\n",
        "\n",
        "The function also prints the loss at regular intervals. After training is completed, it saves the trained model's state dictionary to a file."
      ],
      "metadata": {
        "id": "m70cfurP4C9M"
      }
    },
    {
      "cell_type": "code",
      "source": [
        "def train(model, train_loader, criterion, optimizer, device, num_epochs):\n",
        "    model.train()  # Set the model in training mode\n",
        "    n_total_steps = len(train_loader)\n",
        "\n",
        "    for epoch in range(num_epochs):\n",
        "        for i, (images, labels) in enumerate(train_loader):\n",
        "            images = images.to(device)\n",
        "            labels = labels.to(device)\n",
        "\n",
        "            # Forward pass\n",
        "            outputs = model(images)\n",
        "            loss = criterion(outputs, labels)\n",
        "\n",
        "            # Backward pass and optimization\n",
        "            optimizer.zero_grad()\n",
        "            loss.backward()\n",
        "            optimizer.step()\n",
        "\n",
        "            if (i+1) % 2000 == 0:\n",
        "                print(f'Epoch [{epoch+1}/{num_epochs}], Step [{i+1}/{n_total_steps}], Loss: {loss.item():.4f}')\n",
        "\n",
        "    print('Finished Training')\n",
        "    PATH = './cnn.pth'\n",
        "    torch.save(model.state_dict(), PATH)\n"
      ],
      "metadata": {
        "id": "fpo2uRc6_Vto"
      },
      "execution_count": null,
      "outputs": []
    },
    {
      "cell_type": "markdown",
      "source": [
        "### Define Test Function\n",
        "1. The test function evaluates the accuracy of a trained model on a test dataset. It calculates the total accuracy of the network and the accuracy for each class in the dataset.\n",
        "2. The function takes the model, test data loader, device, and class labels as inputs.\n",
        "3. It iterates over the test dataset, performs a forward pass through the model, compares the predicted labels with the true labels, and updates the accuracy counters.\n",
        "4. Finally, it calculates and prints the accuracy of the entire network and the accuracy for each class."
      ],
      "metadata": {
        "id": "Yt-5KGkb4F8a"
      }
    },
    {
      "cell_type": "code",
      "source": [
        "def test(model, test_loader, device, classes):\n",
        "    model.eval()  # Set the model in evaluation mode\n",
        "    n_correct = 0\n",
        "    n_samples = 0\n",
        "    n_class_correct = [0 for _ in range(len(classes))]\n",
        "    n_class_samples = [0 for _ in range(len(classes))]\n",
        "    # evaluates accuracy of model\n",
        "    with torch.no_grad():\n",
        "        for images, labels in test_loader:\n",
        "            images = images.to(device)\n",
        "            labels = labels.to(device)\n",
        "            outputs = model(images)\n",
        "\n",
        "            # keep track of entire network\n",
        "            _, predicted = torch.max(outputs, 1)\n",
        "            n_samples += labels.size(0)\n",
        "            n_correct += (predicted == labels).sum().item()\n",
        "\n",
        "            # keeps track of correct for each class\n",
        "            for i in range(labels.size(0)):\n",
        "                label = labels[i]\n",
        "                pred = predicted[i]\n",
        "                if label == pred:\n",
        "                    n_class_correct[label] += 1\n",
        "                n_class_samples[label] += 1\n",
        "\n",
        "    # print average accuracy of entire network\n",
        "    acc = 100.0 * n_correct / n_samples\n",
        "    print(f'Accuracy of entire network: {acc} %')\n",
        "\n",
        "    # print accuracy for each class\n",
        "    for i in range(len(classes)):\n",
        "        acc = 100.0 * n_class_correct[i] / n_class_samples[i]\n",
        "        print(f'Accuracy of {classes[i]}: {acc} %')\n"
      ],
      "metadata": {
        "id": "d1gPbrTk_WhT"
      },
      "execution_count": null,
      "outputs": []
    },
    {
      "cell_type": "markdown",
      "source": [
        "### Call Train and Test Functions"
      ],
      "metadata": {
        "id": "W5BlVRHq4IUA"
      }
    },
    {
      "cell_type": "code",
      "source": [
        "# Calls train and test functions using the defined hyper-parameters above\n",
        "# Training\n",
        "train = train(model, train_loader, criterion, optimizer, device, num_epochs)\n",
        "\n",
        "# Testing\n",
        "test = test(model, test_loader, device, classes)"
      ],
      "metadata": {
        "colab": {
          "base_uri": "https://localhost:8080/"
        },
        "id": "AicjPzFjyhgC",
        "outputId": "577c7f6a-98e4-4e35-eac0-b974fdb49bc1"
      },
      "execution_count": null,
      "outputs": [
        {
          "output_type": "stream",
          "name": "stdout",
          "text": [
            "Epoch [1/5], Step [2000/12500], Loss: 2.3070\n",
            "Epoch [1/5], Step [4000/12500], Loss: 2.2782\n",
            "Epoch [1/5], Step [6000/12500], Loss: 2.2896\n",
            "Epoch [1/5], Step [8000/12500], Loss: 2.2916\n",
            "Epoch [1/5], Step [10000/12500], Loss: 2.2867\n",
            "Epoch [1/5], Step [12000/12500], Loss: 2.2883\n",
            "Epoch [2/5], Step [2000/12500], Loss: 2.7687\n",
            "Epoch [2/5], Step [4000/12500], Loss: 1.8958\n",
            "Epoch [2/5], Step [6000/12500], Loss: 2.8800\n",
            "Epoch [2/5], Step [8000/12500], Loss: 2.4715\n",
            "Epoch [2/5], Step [10000/12500], Loss: 2.8355\n",
            "Epoch [2/5], Step [12000/12500], Loss: 1.7216\n",
            "Epoch [3/5], Step [2000/12500], Loss: 1.5986\n",
            "Epoch [3/5], Step [4000/12500], Loss: 1.4257\n",
            "Epoch [3/5], Step [6000/12500], Loss: 1.7132\n",
            "Epoch [3/5], Step [8000/12500], Loss: 1.4569\n",
            "Epoch [3/5], Step [10000/12500], Loss: 2.6251\n",
            "Epoch [3/5], Step [12000/12500], Loss: 1.3545\n",
            "Epoch [4/5], Step [2000/12500], Loss: 1.9238\n",
            "Epoch [4/5], Step [4000/12500], Loss: 2.0692\n",
            "Epoch [4/5], Step [6000/12500], Loss: 1.2742\n",
            "Epoch [4/5], Step [8000/12500], Loss: 1.4834\n",
            "Epoch [4/5], Step [10000/12500], Loss: 2.0574\n",
            "Epoch [4/5], Step [12000/12500], Loss: 2.3331\n",
            "Epoch [5/5], Step [2000/12500], Loss: 0.6864\n",
            "Epoch [5/5], Step [4000/12500], Loss: 1.6974\n",
            "Epoch [5/5], Step [6000/12500], Loss: 1.7191\n",
            "Epoch [5/5], Step [8000/12500], Loss: 0.4864\n",
            "Epoch [5/5], Step [10000/12500], Loss: 0.8422\n",
            "Epoch [5/5], Step [12000/12500], Loss: 1.1221\n",
            "Finished Training\n",
            "Accuracy of entire network: 48.63 %\n",
            "Accuracy of plane: 50.0 %\n",
            "Accuracy of car: 60.3 %\n",
            "Accuracy of bird: 22.9 %\n",
            "Accuracy of cat: 21.7 %\n",
            "Accuracy of deer: 40.9 %\n",
            "Accuracy of dog: 40.2 %\n",
            "Accuracy of frog: 56.2 %\n",
            "Accuracy of horse: 68.7 %\n",
            "Accuracy of ship: 73.1 %\n",
            "Accuracy of truck: 52.3 %\n"
          ]
        }
      ]
    }
  ]
}